{
 "cells": [
  {
   "cell_type": "markdown",
   "metadata": {},
   "source": [
    "# Housing Market"
   ]
  },
  {
   "cell_type": "markdown",
   "metadata": {},
   "source": [
    "### Introduction:\n",
    "\n",
    "This time we will create our own dataset with fictional numbers to describe a house market. As we are going to create random data don't try to reason of the numbers.\n",
    "\n",
    "### Step 1. Import the necessary libraries"
   ]
  },
  {
   "cell_type": "code",
   "execution_count": 1,
   "metadata": {},
   "outputs": [],
   "source": [
    "import pandas as pd \n",
    "import numpy as np\n",
    "import random"
   ]
  },
  {
   "cell_type": "markdown",
   "metadata": {},
   "source": [
    "### Step 2. Create 3 differents Series, each of length 100, as follows: \n",
    "1. The first a random number from 1 to 4 \n",
    "2. The second a random number from 1 to 3\n",
    "3. The third a random number from 10,000 to 30,000"
   ]
  },
  {
   "cell_type": "code",
   "execution_count": 2,
   "metadata": {},
   "outputs": [],
   "source": [
    "# Create Series with random numbers\n",
    "series1 = pd.Series([random.randint(1, 4) for _ in range(100)])\n",
    "series2 = pd.Series([random.randint(1, 3) for _ in range(100)])\n",
    "series3 = pd.Series([random.randint(10000, 30000) for _ in range(100)])\n",
    "\n"
   ]
  },
  {
   "cell_type": "markdown",
   "metadata": {},
   "source": [
    "### Step 3. Let's create a DataFrame by joinning the Series by column"
   ]
  },
  {
   "cell_type": "code",
   "execution_count": 3,
   "metadata": {},
   "outputs": [
    {
     "name": "stdout",
     "output_type": "stream",
     "text": [
      "   Random_1_to_4  Random_1_to_3  Random_10000_to_30000\n",
      "0              2              1                  26497\n",
      "1              4              3                  21226\n",
      "2              1              3                  13052\n",
      "3              2              2                  10701\n",
      "4              1              1                  28622\n"
     ]
    }
   ],
   "source": [
    "df = pd.concat([series1, series2, series3], axis=1)\n",
    "\n",
    "df.columns = ['Random_1_to_4', 'Random_1_to_3', 'Random_10000_to_30000']\n",
    "\n",
    "print(df.head())"
   ]
  },
  {
   "cell_type": "markdown",
   "metadata": {},
   "source": [
    "### Step 4. Change the name of the columns to bedrs, bathrs, price_sqr_meter"
   ]
  },
  {
   "cell_type": "code",
   "execution_count": 10,
   "metadata": {},
   "outputs": [
    {
     "name": "stdout",
     "output_type": "stream",
     "text": [
      "   bedrs  bathrs  price_sqr_meter\n",
      "0      2       2            29398\n",
      "1      1       1            29232\n",
      "2      1       1            24639\n",
      "3      3       3            22788\n",
      "4      2       3            24706\n"
     ]
    }
   ],
   "source": [
    "\n",
    "df = pd.concat([series1, series2, series3], axis=1)\n",
    "df.rename(columns={0: 'bedrs', 1: 'bathrs', 2: 'price_sqr_meter'}, inplace=True)\n",
    "\n",
    "\n",
    "print(df.head())"
   ]
  },
  {
   "cell_type": "markdown",
   "metadata": {},
   "source": [
    "### Step 5. Create a one column DataFrame with the values of the 3 Series and assign it to 'bigcolumn'"
   ]
  },
  {
   "cell_type": "code",
   "execution_count": 4,
   "metadata": {},
   "outputs": [
    {
     "data": {
      "text/plain": [
       "0         2\n",
       "1         4\n",
       "2         1\n",
       "3         2\n",
       "4         1\n",
       "      ...  \n",
       "95    14687\n",
       "96    29240\n",
       "97    27668\n",
       "98    22890\n",
       "99    15325\n",
       "Length: 300, dtype: int64"
      ]
     },
     "execution_count": 4,
     "metadata": {},
     "output_type": "execute_result"
    }
   ],
   "source": [
    "# Concatenate the Series into a one-column DataFrame\n",
    "bigcolumn = pd.concat([series1, series2, series3], axis=0)\n",
    "\n",
    "\n",
    "\n",
    "# Rename the column to 'bigcolumn'\n",
    "bigcolumn.columns = ['bigcolumn']\n",
    "\n",
    "bigcolumn"
   ]
  },
  {
   "cell_type": "markdown",
   "metadata": {},
   "source": [
    "### Step 6. Ops it seems it is going only until index 99. Is it true?"
   ]
  },
  {
   "cell_type": "code",
   "execution_count": 5,
   "metadata": {},
   "outputs": [
    {
     "data": {
      "text/plain": [
       "300"
      ]
     },
     "execution_count": 5,
     "metadata": {},
     "output_type": "execute_result"
    }
   ],
   "source": [
    "len(bigcolumn)\n",
    "\n"
   ]
  },
  {
   "cell_type": "markdown",
   "metadata": {},
   "source": [
    "### Step 7. Reindex the DataFrame so it goes from 0 to 299"
   ]
  },
  {
   "cell_type": "code",
   "execution_count": 18,
   "metadata": {},
   "outputs": [
    {
     "data": {
      "text/plain": [
       "0          2\n",
       "1          1\n",
       "2          1\n",
       "3          3\n",
       "4          2\n",
       "       ...  \n",
       "295    23107\n",
       "296    23889\n",
       "297    20503\n",
       "298    12739\n",
       "299    20371\n",
       "Length: 300, dtype: int64"
      ]
     },
     "execution_count": 18,
     "metadata": {},
     "output_type": "execute_result"
    }
   ],
   "source": [
    "# Reset the index to have a continuous index for the new DataFrame\n",
    "\n",
    "bigcolumn.reset_index(drop=True, inplace=True)\n",
    "\n",
    "# Rename the column to 'bigcolumn'\n",
    "bigcolumn.columns = ['bigcolumn']\n",
    "\n",
    "# Display the first few rows of the new DataFrame\n",
    "bigcolumn"
   ]
  },
  {
   "cell_type": "code",
   "execution_count": null,
   "metadata": {},
   "outputs": [],
   "source": []
  }
 ],
 "metadata": {
  "kernelspec": {
   "display_name": "Python 3 (ipykernel)",
   "language": "python",
   "name": "python3"
  },
  "language_info": {
   "codemirror_mode": {
    "name": "ipython",
    "version": 3
   },
   "file_extension": ".py",
   "mimetype": "text/x-python",
   "name": "python",
   "nbconvert_exporter": "python",
   "pygments_lexer": "ipython3",
   "version": "3.11.4"
  }
 },
 "nbformat": 4,
 "nbformat_minor": 1
}
