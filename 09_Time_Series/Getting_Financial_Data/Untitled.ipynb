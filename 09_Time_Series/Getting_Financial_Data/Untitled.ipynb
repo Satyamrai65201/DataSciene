{
 "cells": [
  {
   "cell_type": "code",
   "execution_count": 11,
   "id": "dbde8877",
   "metadata": {},
   "outputs": [],
   "source": [
    "import pandas as pd\n",
    "from pandas_datareader import data as web\n",
    "from datetime import datetime\n",
    "\n",
    "\n"
   ]
  },
  {
   "cell_type": "code",
   "execution_count": 12,
   "id": "cb4b4cf5",
   "metadata": {},
   "outputs": [
    {
     "name": "stdout",
     "output_type": "stream",
     "text": [
      "Start Date: 2015-01-01 00:00:00\n",
      "End Date: 2023-09-20 09:45:40.000187\n"
     ]
    }
   ],
   "source": [
    "start_date = datetime(2015, 1, 1)\n",
    "\n",
    "\n",
    "end_date = datetime.today()\n",
    "\n",
    "print(\"Start Date:\", start_date)\n",
    "print(\"End Date:\", end_date)\n"
   ]
  },
  {
   "cell_type": "code",
   "execution_count": 13,
   "id": "b4d7c181",
   "metadata": {},
   "outputs": [],
   "source": [
    "stocks = [\"AAPL\", \"TSLA\", \"TWTR\", \"IBM\", \"LNKD\"]\n"
   ]
  },
  {
   "cell_type": "code",
   "execution_count": 35,
   "id": "c7044444",
   "metadata": {},
   "outputs": [
    {
     "name": "stdout",
     "output_type": "stream",
     "text": [
      "Stock: AAPL\n",
      "                Open      High       Low     Close        Volume\n",
      "Date                                                            \n",
      "2023-09-19  177.5200  179.6300  177.1300  179.0700  5.182694e+07\n",
      "2023-09-18  176.4800  179.3800  176.1700  177.9700  6.725757e+07\n",
      "2023-09-15  176.4800  176.4950  173.8200  175.0100  1.092595e+08\n",
      "2023-09-14  174.0000  176.1000  173.5800  175.7400  6.089576e+07\n",
      "2023-09-13  176.5100  177.3000  173.9800  174.2100  8.426793e+07\n",
      "...              ...       ...       ...       ...           ...\n",
      "2015-01-08   24.5810   25.2420   24.4564   25.1822  2.636629e+08\n",
      "2015-01-07   24.1274   24.3437   24.0078   24.2521  1.780399e+08\n",
      "2015-01-06   24.0028   24.1753   23.5441   23.9130  2.921906e+08\n",
      "2015-01-05   24.3657   24.4435   23.7226   23.9110  2.855408e+08\n",
      "2015-01-02   25.0645   25.0765   24.1593   24.6030  2.363928e+08\n",
      "\n",
      "[2193 rows x 5 columns]\n",
      "\n",
      "\n",
      "Stock: TSLA\n",
      "                Open      High       Low     Close     Volume\n",
      "Date                                                         \n",
      "2023-09-19  264.3500  267.8500  261.2000  266.5000  103704040\n",
      "2023-09-18  271.1600  271.4400  263.7601  265.2800  101543305\n",
      "2023-09-15  277.5500  278.9800  271.0000  274.3900  133692313\n",
      "2023-09-14  271.3200  276.7094  270.4200  276.0400  107709842\n",
      "2023-09-13  270.0700  274.9800  268.1000  271.3000  111673737\n",
      "...              ...       ...       ...       ...        ...\n",
      "2015-01-08   14.1873   14.2533   14.0007   14.0413   51634560\n",
      "2015-01-07   14.2233   14.3187   13.9853   14.0633   44514750\n",
      "2015-01-06   14.0040   14.2800   13.6140   14.0853   93924045\n",
      "2015-01-05   14.3000   14.4333   13.8107   14.0060   80488110\n",
      "2015-01-02   14.8580   14.8833   14.2173   14.6207   71461545\n",
      "\n",
      "[2193 rows x 5 columns]\n",
      "\n",
      "\n",
      "Stock: TWTR\n",
      "Empty DataFrame\n",
      "Columns: []\n",
      "Index: []\n",
      "\n",
      "\n",
      "Stock: IBM\n",
      "               Open     High      Low    Close        Volume\n",
      "Date                                                        \n",
      "2023-09-19  145.000  146.720  144.660  146.520  3.945423e+06\n",
      "2023-09-18  145.770  146.480  145.060  145.090  2.508062e+06\n",
      "2023-09-15  147.110  147.850  145.530  145.990  6.234033e+06\n",
      "2023-09-14  147.380  147.730  146.480  147.350  2.723200e+06\n",
      "2023-09-13  145.950  146.980  145.920  146.550  2.627999e+06\n",
      "...             ...      ...      ...      ...           ...\n",
      "2015-01-08  110.387  112.377  109.909  111.928  6.001319e+06\n",
      "2015-01-07  111.050  111.050  108.854  109.567  6.653528e+06\n",
      "2015-01-06  112.836  113.041  109.635  110.269  8.698870e+06\n",
      "2015-01-05  113.948  113.948  112.465  112.709  6.906071e+06\n",
      "2015-01-02  113.958  115.383  113.773  114.544  7.819521e+06\n",
      "\n",
      "[2193 rows x 5 columns]\n",
      "\n",
      "\n",
      "Stock: LNKD\n",
      "Empty DataFrame\n",
      "Columns: []\n",
      "Index: []\n",
      "\n",
      "\n"
     ]
    }
   ],
   "source": [
    "import pandas_datareader.data as web\n",
    "\n",
    "\n",
    "\n",
    "\n",
    "stock_data = {}\n",
    "\n",
    "# Fetch data for each stock using Google Finance as the data source\n",
    "for stock_symbol in stocks:\n",
    "    df = web.DataReader(stock_symbol, 'stooq', start_date, end_date)\n",
    "    stock_data[stock_symbol] = df\n",
    "\n",
    "\n",
    "for stock_symbol, df in stock_data.items():\n",
    "    print(f\"Stock: {stock_symbol}\")\n",
    "    print(df)\n",
    "    print(\"\\n\")\n"
   ]
  },
  {
   "cell_type": "code",
   "execution_count": null,
   "id": "07a47930",
   "metadata": {},
   "outputs": [],
   "source": [
    "A DataFrame is a two-dimensional, size-mutable, and potentially heterogeneous tabular data structure with labeled axes (rows and columns)"
   ]
  },
  {
   "cell_type": "code",
   "execution_count": 31,
   "id": "e04364b3",
   "metadata": {},
   "outputs": [
    {
     "name": "stdout",
     "output_type": "stream",
     "text": [
      "Index([], dtype='object')\n"
     ]
    }
   ],
   "source": [
    "column_names = df.columns\n",
    "print(column_names)\n"
   ]
  },
  {
   "cell_type": "code",
   "execution_count": 37,
   "id": "348451a2",
   "metadata": {},
   "outputs": [
    {
     "name": "stdout",
     "output_type": "stream",
     "text": [
      "Index([], dtype='object')\n"
     ]
    }
   ],
   "source": [
    "print(df.columns)\n"
   ]
  },
  {
   "cell_type": "code",
   "execution_count": null,
   "id": "110c90da",
   "metadata": {},
   "outputs": [],
   "source": []
  }
 ],
 "metadata": {
  "kernelspec": {
   "display_name": "Python 3 (ipykernel)",
   "language": "python",
   "name": "python3"
  },
  "language_info": {
   "codemirror_mode": {
    "name": "ipython",
    "version": 3
   },
   "file_extension": ".py",
   "mimetype": "text/x-python",
   "name": "python",
   "nbconvert_exporter": "python",
   "pygments_lexer": "ipython3",
   "version": "3.11.4"
  }
 },
 "nbformat": 4,
 "nbformat_minor": 5
}
